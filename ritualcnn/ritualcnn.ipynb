{
 "cells": [
  {
   "cell_type": "markdown",
   "id": "b4221d6b-2fc0-45e8-a7aa-e10de810ce60",
   "metadata": {},
   "source": [
    "## 0.1 - Import tensorflow and list GPU devices"
   ]
  },
  {
   "cell_type": "code",
   "execution_count": 1,
   "id": "625f4426-a1a2-4080-9ac8-64313a08b53f",
   "metadata": {},
   "outputs": [
    {
     "name": "stdout",
     "output_type": "stream",
     "text": [
      "[]\n",
      "Aucun GPU disponible\n"
     ]
    }
   ],
   "source": [
    "import tensorflow as tf\n",
    "\n",
    "gpus = tf.config.list_physical_devices('GPU')\n",
    "print(gpus)\n",
    "\n",
    "if gpus:\n",
    "    print(\"GPUs disponibles :\")\n",
    "    for gpu in gpus:\n",
    "        print(gpu)\n",
    "else:\n",
    "    print(\"Aucun GPU disponible\")"
   ]
  },
  {
   "cell_type": "markdown",
   "id": "fe651b17-7151-45b7-a282-0140fecd61dc",
   "metadata": {},
   "source": [
    "## 0.2 - Every imports"
   ]
  },
  {
   "cell_type": "code",
   "execution_count": 8,
   "id": "c5bac23e-846e-4c9d-a204-829aaa66fbe4",
   "metadata": {},
   "outputs": [],
   "source": [
    "import tensorflow as tf\n",
    "import numpy as np\n",
    "import os\n",
    "from tensorflow.keras.callbacks import EarlyStopping, ModelCheckpoint\n",
    "import tf2onnx\n",
    "import onnx\n",
    "from PIL import Image\n",
    "import random\n",
    "from sklearn.model_selection import train_test_split\n",
    "from tqdm import tqdm\n",
    "import warnings\n",
    "import numpy as np\n",
    "import matplotlib.pyplot as plt\n",
    "from tensorflow.keras import layers, models\n",
    "from tensorflow.keras.models import Sequential\n",
    "from tensorflow.keras.layers import Conv2D, BatchNormalization, MaxPooling2D, BatchNormalization, Dropout, Flatten, Dense, Reshape, LSTM, TimeDistributed, GlobalAveragePooling2D\n",
    "from tensorflow.keras.optimizers.legacy import Adam \n",
    "from tensorflow.keras.callbacks import ReduceLROnPlateau\n",
    "import tf2onnx\n",
    "import onnx\n",
    "import torch\n",
    "import torch.nn as nn\n",
    "import torch.optim as optim\n",
    "from torch.utils.data import Dataset, DataLoader, random_split\n",
    "from torchvision import transforms\n",
    "from PIL import Image\n",
    "import numpy as np\n",
    "import os\n",
    "from tqdm import tqdm\n",
    "from sklearn.model_selection import train_test_split\n",
    "from torchsummary import summary\n",
    "import torch.onnx"
   ]
  },
  {
   "cell_type": "markdown",
   "id": "39058f4f-47b9-445e-9db3-58065dc06419",
   "metadata": {},
   "source": [
    "## 0.3 - Setup variables"
   ]
  },
  {
   "cell_type": "code",
   "execution_count": 3,
   "id": "0f06189d-dfef-4e5f-88ed-e86f742bec25",
   "metadata": {},
   "outputs": [
    {
     "name": "stdout",
     "output_type": "stream",
     "text": [
      "Using device: cpu\n"
     ]
    }
   ],
   "source": [
    "input_shape = 128\n",
    "directory_path = './data'\n",
    "augmented_path = f\"{directory_path}_augment\"\n",
    "test_dir = \"test\"\n",
    "onnx_model_path = \"rituals.onnx\"\n",
    "num_epochs = 50\n",
    "best_val_loss = float('inf')\n",
    "patience = 5\n",
    "patience_counter = 0\n",
    "history = {'train_loss': [], 'train_acc': [], 'val_loss': [], 'val_acc': []}\n",
    "\n",
    "device = torch.device('cuda' if torch.cuda.is_available() else 'cpu')\n",
    "print(f\"Using device: {device}\")"
   ]
  },
  {
   "cell_type": "markdown",
   "id": "7d352f38-dee9-45f7-ad65-32db8ccb15bb",
   "metadata": {},
   "source": [
    "## 0.4 - Setup functions"
   ]
  },
  {
   "cell_type": "code",
   "execution_count": 4,
   "id": "8ffe97ec-1ee2-417b-b3bc-2e96cecb0fc1",
   "metadata": {},
   "outputs": [],
   "source": [
    "def load_and_preprocess_image(filename):\n",
    "    img = Image.open(filename).convert('L')  # Conversion en niveaux de gris\n",
    "    img = img.resize((input_shape, input_shape))\n",
    "    img = np.array(img, dtype=np.float32)\n",
    "    # Seuillage binaire\n",
    "    img = np.where(img > 127, 255.0, 0.0)\n",
    "    return img\n",
    "\n",
    "def load_images_from_directory(directory_path, max_images_per_label=None):\n",
    "    image_paths = []\n",
    "    labels = []\n",
    "    label_names = []\n",
    "    \n",
    "    for label in os.listdir(directory_path):\n",
    "        label_path = os.path.join(directory_path, label)\n",
    "        print(f\"Actually load : {label} with size : {len(os.listdir(label_path))}\")\n",
    "        if os.path.isdir(label_path):\n",
    "            label_image_count = 0\n",
    "            \n",
    "            for filename in os.listdir(label_path):\n",
    "                if filename.lower().endswith(('.png', '.jpg', '.jpeg')):\n",
    "                    if max_images_per_label is not None and label_image_count >= max_images_per_label:\n",
    "                        break\n",
    "                    image_paths.append(os.path.join(label_path, filename))\n",
    "                    labels.append(label)\n",
    "                    label_image_count += 1\n",
    "                    if label not in label_names:\n",
    "                        label_names.append(label)\n",
    "    \n",
    "    label_names.sort()\n",
    "    return image_paths, labels, label_names\n",
    "\n",
    "def images_to_numpy(image_paths, labels, label_names):\n",
    "    images = []\n",
    "    for path in tqdm(image_paths, desc=\"Processing images\", unit=\"image\"):\n",
    "        image = load_and_preprocess_image(path)\n",
    "        images.append(image)\n",
    "    \n",
    "    labels = [label_names.index(label) for label in labels]\n",
    "    \n",
    "    print(\"Converting images to NumPy array...\")\n",
    "    images = np.array(images)\n",
    "    return images, np.array(labels)\n",
    "\n",
    "class ImageDataset(Dataset):\n",
    "    def __init__(self, images, labels, transform=None):\n",
    "        self.images = torch.FloatTensor(images).unsqueeze(1) / 255.0  # Normalisation [0, 1]\n",
    "        self.labels = torch.LongTensor(labels)\n",
    "        self.transform = transform\n",
    "    \n",
    "    def __len__(self):\n",
    "        return len(self.images)\n",
    "    \n",
    "    def __getitem__(self, idx):\n",
    "        return self.images[idx], self.labels[idx]\n",
    "\n",
    "class RitualCNN(nn.Module):\n",
    "    def __init__(self, num_classes):\n",
    "        super(RitualCNN, self).__init__()\n",
    "        \n",
    "        self.conv1 = nn.Conv2d(1, 32, kernel_size=3, padding=1)\n",
    "        self.bn1 = nn.BatchNorm2d(32)\n",
    "        self.pool1 = nn.MaxPool2d(2, 2)\n",
    "        self.dropout1 = nn.Dropout2d(0.25)\n",
    "        \n",
    "        self.conv2 = nn.Conv2d(32, 64, kernel_size=3, padding=1)\n",
    "        self.bn2 = nn.BatchNorm2d(64)\n",
    "        self.pool2 = nn.MaxPool2d(2, 2)\n",
    "        self.dropout2 = nn.Dropout2d(0.25)\n",
    "        \n",
    "        self.conv3 = nn.Conv2d(64, 128, kernel_size=3, padding=1)\n",
    "        self.bn3 = nn.BatchNorm2d(128)\n",
    "        self.pool3 = nn.MaxPool2d(2, 2)\n",
    "        self.dropout3 = nn.Dropout2d(0.3)\n",
    "        \n",
    "        self.global_avg_pool = nn.AdaptiveAvgPool2d(1)\n",
    "        \n",
    "        self.fc1 = nn.Linear(128, 64)\n",
    "        self.bn4 = nn.BatchNorm1d(64)\n",
    "        self.dropout4 = nn.Dropout(0.4)\n",
    "        self.fc2 = nn.Linear(64, num_classes)\n",
    "        \n",
    "        self.relu = nn.ReLU()\n",
    "    \n",
    "    def forward(self, x):\n",
    "        x = self.relu(self.bn1(self.conv1(x)))\n",
    "        x = self.pool1(x)\n",
    "        x = self.dropout1(x)\n",
    "        \n",
    "        x = self.relu(self.bn2(self.conv2(x)))\n",
    "        x = self.pool2(x)\n",
    "        x = self.dropout2(x)\n",
    "        \n",
    "        x = self.relu(self.bn3(self.conv3(x)))\n",
    "        x = self.pool3(x)\n",
    "        x = self.dropout3(x)\n",
    "        \n",
    "        x = self.global_avg_pool(x)\n",
    "        x = x.view(x.size(0), -1)\n",
    "        \n",
    "        x = self.relu(self.bn4(self.fc1(x)))\n",
    "        x = self.dropout4(x)\n",
    "        x = self.fc2(x)\n",
    "        \n",
    "        return x\n",
    "\n",
    "def train_epoch(model, dataloader, criterion, optimizer, device):\n",
    "    model.train()\n",
    "    running_loss = 0.0\n",
    "    correct = 0\n",
    "    total = 0\n",
    "    \n",
    "    for inputs, labels in tqdm(dataloader, desc=\"Training\"):\n",
    "        inputs, labels = inputs.to(device), labels.to(device)\n",
    "        \n",
    "        optimizer.zero_grad()\n",
    "        outputs = model(inputs)\n",
    "        loss = criterion(outputs, labels)\n",
    "        loss.backward()\n",
    "        optimizer.step()\n",
    "        \n",
    "        running_loss += loss.item()\n",
    "        _, predicted = outputs.max(1)\n",
    "        total += labels.size(0)\n",
    "        correct += predicted.eq(labels).sum().item()\n",
    "    \n",
    "    return running_loss / len(dataloader), 100. * correct / total\n",
    "\n",
    "# Fonction de validation\n",
    "def validate(model, dataloader, criterion, device):\n",
    "    model.eval()\n",
    "    running_loss = 0.0\n",
    "    correct = 0\n",
    "    total = 0\n",
    "    \n",
    "    with torch.no_grad():\n",
    "        for inputs, labels in dataloader:\n",
    "            inputs, labels = inputs.to(device), labels.to(device)\n",
    "            outputs = model(inputs)\n",
    "            loss = criterion(outputs, labels)\n",
    "            \n",
    "            running_loss += loss.item()\n",
    "            _, predicted = outputs.max(1)\n",
    "            total += labels.size(0)\n",
    "            correct += predicted.eq(labels).sum().item()\n",
    "    \n",
    "    return running_loss / len(dataloader), 100. * correct / total"
   ]
  },
  {
   "cell_type": "markdown",
   "id": "dbb22f48-f722-42c1-b6ff-44d3207c6669",
   "metadata": {},
   "source": [
    "## 1.0 - Collect images and classify them"
   ]
  },
  {
   "cell_type": "code",
   "execution_count": 5,
   "id": "ba08751c-c223-4783-9182-70abced08bd1",
   "metadata": {},
   "outputs": [
    {
     "name": "stdout",
     "output_type": "stream",
     "text": [
      "Actually load : pudor with size : 250\n",
      "Actually load : not_a with size : 350\n",
      "Actually load : mutus with size : 300\n",
      "Actually load : avarus with size : 375\n",
      "Actually load : flosculus with size : 625\n",
      "Actually load : acervus with size : 225\n",
      "Actually load : .ipynb_checkpoints with size : 0\n",
      "Actually load : regium with size : 825\n"
     ]
    },
    {
     "name": "stderr",
     "output_type": "stream",
     "text": [
      "Processing images: 100%|████████████████████████████████████████████████████████████████████████| 2950/2950 [00:00<00:00, 5971.91image/s]\n"
     ]
    },
    {
     "name": "stdout",
     "output_type": "stream",
     "text": [
      "Converting images to NumPy array...\n",
      "Total images: 2950\n",
      "Training images: 1888, Validation: 472, Test: 590\n",
      "Number of classes: 7\n",
      "Class names: ['acervus', 'avarus', 'flosculus', 'mutus', 'not_a', 'pudor', 'regium']\n"
     ]
    }
   ],
   "source": [
    "max_images_per_label = 1000000\n",
    "\n",
    "image_paths, labels, label_names = load_images_from_directory(\n",
    "    augmented_path, \n",
    "    max_images_per_label=max_images_per_label\n",
    ")\n",
    "images, labels = images_to_numpy(image_paths, labels, label_names)\n",
    "\n",
    "X_train, X_test, y_train, y_test = train_test_split(\n",
    "    images, labels, test_size=0.2, random_state=42\n",
    ")\n",
    "\n",
    "train_dataset = ImageDataset(X_train, y_train)\n",
    "test_dataset = ImageDataset(X_test, y_test)\n",
    "\n",
    "train_size = int(0.8 * len(train_dataset))\n",
    "val_size = len(train_dataset) - train_size\n",
    "train_dataset, val_dataset = random_split(train_dataset, [train_size, val_size])\n",
    "\n",
    "train_loader = DataLoader(train_dataset, batch_size=32, shuffle=True, num_workers=0)\n",
    "val_loader = DataLoader(val_dataset, batch_size=32, shuffle=False, num_workers=0)\n",
    "test_loader = DataLoader(test_dataset, batch_size=32, shuffle=False, num_workers=0)\n",
    "\n",
    "num_classes = len(label_names)\n",
    "print(f\"Total images: {len(images)}\")\n",
    "print(f\"Training images: {len(train_dataset)}, Validation: {len(val_dataset)}, Test: {len(test_dataset)}\")\n",
    "print(f\"Number of classes: {num_classes}\")\n",
    "print(f\"Class names: {label_names}\")"
   ]
  },
  {
   "cell_type": "markdown",
   "id": "e23247e1-9645-4503-b333-288577aa392b",
   "metadata": {},
   "source": [
    "## 2.0 - Define model & function"
   ]
  },
  {
   "cell_type": "code",
   "execution_count": 6,
   "id": "3cb1db48-768d-4acb-a832-35ea39cfcc58",
   "metadata": {
    "scrolled": true
   },
   "outputs": [
    {
     "name": "stdout",
     "output_type": "stream",
     "text": [
      "----------------------------------------------------------------\n",
      "        Layer (type)               Output Shape         Param #\n",
      "================================================================\n",
      "            Conv2d-1         [-1, 32, 128, 128]             320\n",
      "       BatchNorm2d-2         [-1, 32, 128, 128]              64\n",
      "              ReLU-3         [-1, 32, 128, 128]               0\n",
      "         MaxPool2d-4           [-1, 32, 64, 64]               0\n",
      "         Dropout2d-5           [-1, 32, 64, 64]               0\n",
      "            Conv2d-6           [-1, 64, 64, 64]          18,496\n",
      "       BatchNorm2d-7           [-1, 64, 64, 64]             128\n",
      "              ReLU-8           [-1, 64, 64, 64]               0\n",
      "         MaxPool2d-9           [-1, 64, 32, 32]               0\n",
      "        Dropout2d-10           [-1, 64, 32, 32]               0\n",
      "           Conv2d-11          [-1, 128, 32, 32]          73,856\n",
      "      BatchNorm2d-12          [-1, 128, 32, 32]             256\n",
      "             ReLU-13          [-1, 128, 32, 32]               0\n",
      "        MaxPool2d-14          [-1, 128, 16, 16]               0\n",
      "        Dropout2d-15          [-1, 128, 16, 16]               0\n",
      "AdaptiveAvgPool2d-16            [-1, 128, 1, 1]               0\n",
      "           Linear-17                   [-1, 64]           8,256\n",
      "      BatchNorm1d-18                   [-1, 64]             128\n",
      "             ReLU-19                   [-1, 64]               0\n",
      "          Dropout-20                   [-1, 64]               0\n",
      "           Linear-21                    [-1, 7]             455\n",
      "================================================================\n",
      "Total params: 101,959\n",
      "Trainable params: 101,959\n",
      "Non-trainable params: 0\n",
      "----------------------------------------------------------------\n",
      "Input size (MB): 0.06\n",
      "Forward/backward pass size (MB): 24.50\n",
      "Params size (MB): 0.39\n",
      "Estimated Total Size (MB): 24.95\n",
      "----------------------------------------------------------------\n"
     ]
    }
   ],
   "source": [
    "model = RitualCNN(num_classes).to(device)\n",
    "criterion = nn.CrossEntropyLoss()\n",
    "optimizer = optim.Adam(model.parameters(), lr=0.001)\n",
    "scheduler = optim.lr_scheduler.ReduceLROnPlateau(\n",
    "    optimizer, mode='min', factor=0.5, patience=3, min_lr=1e-7\n",
    ")\n",
    "summary(model, input_size=(1, input_shape, input_shape))"
   ]
  },
  {
   "cell_type": "markdown",
   "id": "23d28e96-aff6-4957-8a69-7d433bbbebd0",
   "metadata": {},
   "source": [
    "## 2.1 - Training !"
   ]
  },
  {
   "cell_type": "code",
   "execution_count": 7,
   "id": "f532a524-c9d5-4bd5-a579-16e8b6934049",
   "metadata": {},
   "outputs": [
    {
     "name": "stdout",
     "output_type": "stream",
     "text": [
      "\n",
      "Epoch 1/50\n",
      "Current LR: 1.00e-03\n"
     ]
    },
    {
     "name": "stderr",
     "output_type": "stream",
     "text": [
      "Training: 100%|██████████████████████████████████████████████████████████████████████████████████████████| 59/59 [00:17<00:00,  3.43it/s]\n"
     ]
    },
    {
     "name": "stdout",
     "output_type": "stream",
     "text": [
      "Train Loss: 1.6820, Train Acc: 39.88%\n",
      "Val Loss: 1.3720, Val Acc: 57.42%\n",
      "Model saved!\n",
      "\n",
      "Epoch 2/50\n",
      "Current LR: 1.00e-03\n"
     ]
    },
    {
     "name": "stderr",
     "output_type": "stream",
     "text": [
      "Training: 100%|██████████████████████████████████████████████████████████████████████████████████████████| 59/59 [00:17<00:00,  3.47it/s]\n"
     ]
    },
    {
     "name": "stdout",
     "output_type": "stream",
     "text": [
      "Train Loss: 1.3805, Train Acc: 55.08%\n",
      "Val Loss: 1.0801, Val Acc: 66.31%\n",
      "Model saved!\n",
      "\n",
      "Epoch 3/50\n",
      "Current LR: 1.00e-03\n"
     ]
    },
    {
     "name": "stderr",
     "output_type": "stream",
     "text": [
      "Training: 100%|██████████████████████████████████████████████████████████████████████████████████████████| 59/59 [00:18<00:00,  3.27it/s]\n"
     ]
    },
    {
     "name": "stdout",
     "output_type": "stream",
     "text": [
      "Train Loss: 1.2188, Train Acc: 58.79%\n",
      "Val Loss: 0.9746, Val Acc: 65.89%\n",
      "Model saved!\n",
      "\n",
      "Epoch 4/50\n",
      "Current LR: 1.00e-03\n"
     ]
    },
    {
     "name": "stderr",
     "output_type": "stream",
     "text": [
      "Training: 100%|██████████████████████████████████████████████████████████████████████████████████████████| 59/59 [00:17<00:00,  3.40it/s]\n"
     ]
    },
    {
     "name": "stdout",
     "output_type": "stream",
     "text": [
      "Train Loss: 1.1114, Train Acc: 61.60%\n",
      "Val Loss: 0.8616, Val Acc: 68.22%\n",
      "Model saved!\n",
      "\n",
      "Epoch 5/50\n",
      "Current LR: 1.00e-03\n"
     ]
    },
    {
     "name": "stderr",
     "output_type": "stream",
     "text": [
      "Training: 100%|██████████████████████████████████████████████████████████████████████████████████████████| 59/59 [00:17<00:00,  3.42it/s]\n"
     ]
    },
    {
     "name": "stdout",
     "output_type": "stream",
     "text": [
      "Train Loss: 1.0284, Train Acc: 64.72%\n",
      "Val Loss: 0.8158, Val Acc: 68.43%\n",
      "Model saved!\n",
      "\n",
      "Epoch 6/50\n",
      "Current LR: 1.00e-03\n"
     ]
    },
    {
     "name": "stderr",
     "output_type": "stream",
     "text": [
      "Training: 100%|██████████████████████████████████████████████████████████████████████████████████████████| 59/59 [00:17<00:00,  3.40it/s]\n"
     ]
    },
    {
     "name": "stdout",
     "output_type": "stream",
     "text": [
      "Train Loss: 0.9654, Train Acc: 66.37%\n",
      "Val Loss: 0.7564, Val Acc: 69.28%\n",
      "Model saved!\n",
      "\n",
      "Epoch 7/50\n",
      "Current LR: 1.00e-03\n"
     ]
    },
    {
     "name": "stderr",
     "output_type": "stream",
     "text": [
      "Training: 100%|██████████████████████████████████████████████████████████████████████████████████████████| 59/59 [00:17<00:00,  3.46it/s]\n"
     ]
    },
    {
     "name": "stdout",
     "output_type": "stream",
     "text": [
      "Train Loss: 0.9370, Train Acc: 66.47%\n",
      "Val Loss: 0.7202, Val Acc: 70.97%\n",
      "Model saved!\n",
      "\n",
      "Epoch 8/50\n",
      "Current LR: 1.00e-03\n"
     ]
    },
    {
     "name": "stderr",
     "output_type": "stream",
     "text": [
      "Training: 100%|██████████████████████████████████████████████████████████████████████████████████████████| 59/59 [00:18<00:00,  3.22it/s]\n"
     ]
    },
    {
     "name": "stdout",
     "output_type": "stream",
     "text": [
      "Train Loss: 0.8406, Train Acc: 70.50%\n",
      "Val Loss: 0.6640, Val Acc: 73.94%\n",
      "Model saved!\n",
      "\n",
      "Epoch 9/50\n",
      "Current LR: 1.00e-03\n"
     ]
    },
    {
     "name": "stderr",
     "output_type": "stream",
     "text": [
      "Training: 100%|██████████████████████████████████████████████████████████████████████████████████████████| 59/59 [00:18<00:00,  3.26it/s]\n"
     ]
    },
    {
     "name": "stdout",
     "output_type": "stream",
     "text": [
      "Train Loss: 0.8420, Train Acc: 68.43%\n",
      "Val Loss: 0.6137, Val Acc: 74.58%\n",
      "Model saved!\n",
      "\n",
      "Epoch 10/50\n",
      "Current LR: 1.00e-03\n"
     ]
    },
    {
     "name": "stderr",
     "output_type": "stream",
     "text": [
      "Training: 100%|██████████████████████████████████████████████████████████████████████████████████████████| 59/59 [00:17<00:00,  3.41it/s]\n"
     ]
    },
    {
     "name": "stdout",
     "output_type": "stream",
     "text": [
      "Train Loss: 0.7865, Train Acc: 71.93%\n",
      "Val Loss: 0.5814, Val Acc: 77.97%\n",
      "Model saved!\n",
      "\n",
      "Epoch 11/50\n",
      "Current LR: 1.00e-03\n"
     ]
    },
    {
     "name": "stderr",
     "output_type": "stream",
     "text": [
      "Training: 100%|██████████████████████████████████████████████████████████████████████████████████████████| 59/59 [00:18<00:00,  3.21it/s]\n"
     ]
    },
    {
     "name": "stdout",
     "output_type": "stream",
     "text": [
      "Train Loss: 0.7272, Train Acc: 73.78%\n",
      "Val Loss: 0.5168, Val Acc: 81.57%\n",
      "Model saved!\n",
      "\n",
      "Epoch 12/50\n",
      "Current LR: 1.00e-03\n"
     ]
    },
    {
     "name": "stderr",
     "output_type": "stream",
     "text": [
      "Training: 100%|██████████████████████████████████████████████████████████████████████████████████████████| 59/59 [42:57<00:00, 43.68s/it]\n"
     ]
    },
    {
     "name": "stdout",
     "output_type": "stream",
     "text": [
      "Train Loss: 0.7157, Train Acc: 74.36%\n",
      "Val Loss: 0.4914, Val Acc: 81.99%\n",
      "Model saved!\n",
      "\n",
      "Epoch 13/50\n",
      "Current LR: 1.00e-03\n"
     ]
    },
    {
     "name": "stderr",
     "output_type": "stream",
     "text": [
      "Training: 100%|██████████████████████████████████████████████████████████████████████████████████████████| 59/59 [00:18<00:00,  3.18it/s]\n"
     ]
    },
    {
     "name": "stdout",
     "output_type": "stream",
     "text": [
      "Train Loss: 0.6844, Train Acc: 76.06%\n",
      "Val Loss: 0.4529, Val Acc: 83.05%\n",
      "Model saved!\n",
      "\n",
      "Epoch 14/50\n",
      "Current LR: 1.00e-03\n"
     ]
    },
    {
     "name": "stderr",
     "output_type": "stream",
     "text": [
      "Training: 100%|██████████████████████████████████████████████████████████████████████████████████████████| 59/59 [00:39<00:00,  1.48it/s]\n"
     ]
    },
    {
     "name": "stdout",
     "output_type": "stream",
     "text": [
      "Train Loss: 0.6410, Train Acc: 77.49%\n",
      "Val Loss: 0.4589, Val Acc: 82.63%\n",
      "\n",
      "Epoch 15/50\n",
      "Current LR: 1.00e-03\n"
     ]
    },
    {
     "name": "stderr",
     "output_type": "stream",
     "text": [
      "Training: 100%|██████████████████████████████████████████████████████████████████████████████████████████| 59/59 [00:19<00:00,  3.08it/s]\n"
     ]
    },
    {
     "name": "stdout",
     "output_type": "stream",
     "text": [
      "Train Loss: 0.6177, Train Acc: 78.07%\n",
      "Val Loss: 0.4212, Val Acc: 84.53%\n",
      "Model saved!\n",
      "\n",
      "Epoch 16/50\n",
      "Current LR: 1.00e-03\n"
     ]
    },
    {
     "name": "stderr",
     "output_type": "stream",
     "text": [
      "Training: 100%|██████████████████████████████████████████████████████████████████████████████████████████| 59/59 [00:21<00:00,  2.78it/s]\n"
     ]
    },
    {
     "name": "stdout",
     "output_type": "stream",
     "text": [
      "Train Loss: 0.6133, Train Acc: 77.28%\n",
      "Val Loss: 0.4156, Val Acc: 82.63%\n",
      "Model saved!\n",
      "\n",
      "Epoch 17/50\n",
      "Current LR: 1.00e-03\n"
     ]
    },
    {
     "name": "stderr",
     "output_type": "stream",
     "text": [
      "Training: 100%|██████████████████████████████████████████████████████████████████████████████████████████| 59/59 [00:19<00:00,  3.06it/s]\n"
     ]
    },
    {
     "name": "stdout",
     "output_type": "stream",
     "text": [
      "Train Loss: 0.5989, Train Acc: 78.50%\n",
      "Val Loss: 0.3403, Val Acc: 89.62%\n",
      "Model saved!\n",
      "\n",
      "Epoch 18/50\n",
      "Current LR: 1.00e-03\n"
     ]
    },
    {
     "name": "stderr",
     "output_type": "stream",
     "text": [
      "Training: 100%|██████████████████████████████████████████████████████████████████████████████████████████| 59/59 [00:22<00:00,  2.68it/s]\n"
     ]
    },
    {
     "name": "stdout",
     "output_type": "stream",
     "text": [
      "Train Loss: 0.5534, Train Acc: 79.93%\n",
      "Val Loss: 0.2914, Val Acc: 90.89%\n",
      "Model saved!\n",
      "\n",
      "Epoch 19/50\n",
      "Current LR: 1.00e-03\n"
     ]
    },
    {
     "name": "stderr",
     "output_type": "stream",
     "text": [
      "Training: 100%|██████████████████████████████████████████████████████████████████████████████████████████| 59/59 [00:18<00:00,  3.27it/s]\n"
     ]
    },
    {
     "name": "stdout",
     "output_type": "stream",
     "text": [
      "Train Loss: 0.5682, Train Acc: 80.14%\n",
      "Val Loss: 0.3117, Val Acc: 89.19%\n",
      "\n",
      "Epoch 20/50\n",
      "Current LR: 1.00e-03\n"
     ]
    },
    {
     "name": "stderr",
     "output_type": "stream",
     "text": [
      "Training: 100%|██████████████████████████████████████████████████████████████████████████████████████████| 59/59 [00:17<00:00,  3.36it/s]\n"
     ]
    },
    {
     "name": "stdout",
     "output_type": "stream",
     "text": [
      "Train Loss: 0.5313, Train Acc: 81.20%\n",
      "Val Loss: 0.2908, Val Acc: 90.04%\n",
      "Model saved!\n",
      "\n",
      "Epoch 21/50\n",
      "Current LR: 1.00e-03\n"
     ]
    },
    {
     "name": "stderr",
     "output_type": "stream",
     "text": [
      "Training: 100%|██████████████████████████████████████████████████████████████████████████████████████████| 59/59 [00:19<00:00,  3.02it/s]\n"
     ]
    },
    {
     "name": "stdout",
     "output_type": "stream",
     "text": [
      "Train Loss: 0.4844, Train Acc: 83.00%\n",
      "Val Loss: 0.2666, Val Acc: 92.37%\n",
      "Model saved!\n",
      "\n",
      "Epoch 22/50\n",
      "Current LR: 1.00e-03\n"
     ]
    },
    {
     "name": "stderr",
     "output_type": "stream",
     "text": [
      "Training: 100%|██████████████████████████████████████████████████████████████████████████████████████████| 59/59 [00:20<00:00,  2.82it/s]\n"
     ]
    },
    {
     "name": "stdout",
     "output_type": "stream",
     "text": [
      "Train Loss: 0.4831, Train Acc: 83.21%\n",
      "Val Loss: 0.2671, Val Acc: 91.31%\n",
      "\n",
      "Epoch 23/50\n",
      "Current LR: 1.00e-03\n"
     ]
    },
    {
     "name": "stderr",
     "output_type": "stream",
     "text": [
      "Training: 100%|██████████████████████████████████████████████████████████████████████████████████████████| 59/59 [00:18<00:00,  3.21it/s]\n"
     ]
    },
    {
     "name": "stdout",
     "output_type": "stream",
     "text": [
      "Train Loss: 0.4781, Train Acc: 82.79%\n",
      "Val Loss: 0.2026, Val Acc: 96.19%\n",
      "Model saved!\n",
      "\n",
      "Epoch 24/50\n",
      "Current LR: 1.00e-03\n"
     ]
    },
    {
     "name": "stderr",
     "output_type": "stream",
     "text": [
      "Training: 100%|██████████████████████████████████████████████████████████████████████████████████████████| 59/59 [00:23<00:00,  2.53it/s]\n"
     ]
    },
    {
     "name": "stdout",
     "output_type": "stream",
     "text": [
      "Train Loss: 0.4276, Train Acc: 85.49%\n",
      "Val Loss: 0.2056, Val Acc: 94.92%\n",
      "\n",
      "Epoch 25/50\n",
      "Current LR: 1.00e-03\n"
     ]
    },
    {
     "name": "stderr",
     "output_type": "stream",
     "text": [
      "Training: 100%|██████████████████████████████████████████████████████████████████████████████████████████| 59/59 [00:21<00:00,  2.72it/s]\n"
     ]
    },
    {
     "name": "stdout",
     "output_type": "stream",
     "text": [
      "Train Loss: 0.3921, Train Acc: 86.18%\n",
      "Val Loss: 0.1891, Val Acc: 94.49%\n",
      "Model saved!\n",
      "\n",
      "Epoch 26/50\n",
      "Current LR: 1.00e-03\n"
     ]
    },
    {
     "name": "stderr",
     "output_type": "stream",
     "text": [
      "Training: 100%|██████████████████████████████████████████████████████████████████████████████████████████| 59/59 [00:19<00:00,  3.01it/s]\n"
     ]
    },
    {
     "name": "stdout",
     "output_type": "stream",
     "text": [
      "Train Loss: 0.4107, Train Acc: 85.43%\n",
      "Val Loss: 0.1824, Val Acc: 96.61%\n",
      "Model saved!\n",
      "\n",
      "Epoch 27/50\n",
      "Current LR: 1.00e-03\n"
     ]
    },
    {
     "name": "stderr",
     "output_type": "stream",
     "text": [
      "Training: 100%|██████████████████████████████████████████████████████████████████████████████████████████| 59/59 [00:21<00:00,  2.80it/s]\n"
     ]
    },
    {
     "name": "stdout",
     "output_type": "stream",
     "text": [
      "Train Loss: 0.3492, Train Acc: 88.29%\n",
      "Val Loss: 0.1442, Val Acc: 97.88%\n",
      "Model saved!\n",
      "\n",
      "Epoch 28/50\n",
      "Current LR: 1.00e-03\n"
     ]
    },
    {
     "name": "stderr",
     "output_type": "stream",
     "text": [
      "Training: 100%|██████████████████████████████████████████████████████████████████████████████████████████| 59/59 [00:28<00:00,  2.04it/s]\n"
     ]
    },
    {
     "name": "stdout",
     "output_type": "stream",
     "text": [
      "Train Loss: 0.3459, Train Acc: 87.92%\n",
      "Val Loss: 0.1411, Val Acc: 98.31%\n",
      "Model saved!\n",
      "\n",
      "Epoch 29/50\n",
      "Current LR: 1.00e-03\n"
     ]
    },
    {
     "name": "stderr",
     "output_type": "stream",
     "text": [
      "Training: 100%|██████████████████████████████████████████████████████████████████████████████████████████| 59/59 [00:40<00:00,  1.47it/s]\n"
     ]
    },
    {
     "name": "stdout",
     "output_type": "stream",
     "text": [
      "Train Loss: 0.3184, Train Acc: 88.72%\n",
      "Val Loss: 0.1085, Val Acc: 98.73%\n",
      "Model saved!\n",
      "\n",
      "Epoch 30/50\n",
      "Current LR: 1.00e-03\n"
     ]
    },
    {
     "name": "stderr",
     "output_type": "stream",
     "text": [
      "Training: 100%|██████████████████████████████████████████████████████████████████████████████████████████| 59/59 [00:26<00:00,  2.24it/s]\n"
     ]
    },
    {
     "name": "stdout",
     "output_type": "stream",
     "text": [
      "Train Loss: 0.3088, Train Acc: 89.14%\n",
      "Val Loss: 0.1280, Val Acc: 98.31%\n",
      "\n",
      "Epoch 31/50\n",
      "Current LR: 1.00e-03\n"
     ]
    },
    {
     "name": "stderr",
     "output_type": "stream",
     "text": [
      "Training: 100%|██████████████████████████████████████████████████████████████████████████████████████████| 59/59 [00:30<00:00,  1.96it/s]\n"
     ]
    },
    {
     "name": "stdout",
     "output_type": "stream",
     "text": [
      "Train Loss: 0.2842, Train Acc: 89.78%\n",
      "Val Loss: 0.0865, Val Acc: 99.15%\n",
      "Model saved!\n",
      "\n",
      "Epoch 32/50\n",
      "Current LR: 1.00e-03\n"
     ]
    },
    {
     "name": "stderr",
     "output_type": "stream",
     "text": [
      "Training: 100%|██████████████████████████████████████████████████████████████████████████████████████████| 59/59 [00:40<00:00,  1.46it/s]\n"
     ]
    },
    {
     "name": "stdout",
     "output_type": "stream",
     "text": [
      "Train Loss: 0.2561, Train Acc: 91.37%\n",
      "Val Loss: 0.1132, Val Acc: 98.31%\n",
      "\n",
      "Epoch 33/50\n",
      "Current LR: 1.00e-03\n"
     ]
    },
    {
     "name": "stderr",
     "output_type": "stream",
     "text": [
      "Training: 100%|██████████████████████████████████████████████████████████████████████████████████████████| 59/59 [00:32<00:00,  1.83it/s]\n"
     ]
    },
    {
     "name": "stdout",
     "output_type": "stream",
     "text": [
      "Train Loss: 0.2700, Train Acc: 90.89%\n",
      "Val Loss: 0.0853, Val Acc: 98.94%\n",
      "Model saved!\n",
      "\n",
      "Epoch 34/50\n",
      "Current LR: 1.00e-03\n"
     ]
    },
    {
     "name": "stderr",
     "output_type": "stream",
     "text": [
      "Training: 100%|██████████████████████████████████████████████████████████████████████████████████████████| 59/59 [00:21<00:00,  2.73it/s]\n"
     ]
    },
    {
     "name": "stdout",
     "output_type": "stream",
     "text": [
      "Train Loss: 0.2305, Train Acc: 92.80%\n",
      "Val Loss: 0.0662, Val Acc: 99.15%\n",
      "Model saved!\n",
      "\n",
      "Epoch 35/50\n",
      "Current LR: 1.00e-03\n"
     ]
    },
    {
     "name": "stderr",
     "output_type": "stream",
     "text": [
      "Training: 100%|██████████████████████████████████████████████████████████████████████████████████████████| 59/59 [00:20<00:00,  2.95it/s]\n"
     ]
    },
    {
     "name": "stdout",
     "output_type": "stream",
     "text": [
      "Train Loss: 0.2132, Train Acc: 93.49%\n",
      "Val Loss: 0.0630, Val Acc: 99.79%\n",
      "Model saved!\n",
      "\n",
      "Epoch 36/50\n",
      "Current LR: 1.00e-03\n"
     ]
    },
    {
     "name": "stderr",
     "output_type": "stream",
     "text": [
      "Training: 100%|██████████████████████████████████████████████████████████████████████████████████████████| 59/59 [00:20<00:00,  2.85it/s]\n"
     ]
    },
    {
     "name": "stdout",
     "output_type": "stream",
     "text": [
      "Train Loss: 0.2249, Train Acc: 92.43%\n",
      "Val Loss: 0.0446, Val Acc: 99.58%\n",
      "Model saved!\n",
      "\n",
      "Epoch 37/50\n",
      "Current LR: 1.00e-03\n"
     ]
    },
    {
     "name": "stderr",
     "output_type": "stream",
     "text": [
      "Training: 100%|██████████████████████████████████████████████████████████████████████████████████████████| 59/59 [00:18<00:00,  3.17it/s]\n"
     ]
    },
    {
     "name": "stdout",
     "output_type": "stream",
     "text": [
      "Train Loss: 0.1948, Train Acc: 93.43%\n",
      "Val Loss: 0.0602, Val Acc: 99.58%\n",
      "\n",
      "Epoch 38/50\n",
      "Current LR: 1.00e-03\n"
     ]
    },
    {
     "name": "stderr",
     "output_type": "stream",
     "text": [
      "Training: 100%|██████████████████████████████████████████████████████████████████████████████████████████| 59/59 [00:20<00:00,  2.94it/s]\n"
     ]
    },
    {
     "name": "stdout",
     "output_type": "stream",
     "text": [
      "Train Loss: 0.1567, Train Acc: 94.76%\n",
      "Val Loss: 0.0329, Val Acc: 99.79%\n",
      "Model saved!\n",
      "\n",
      "Epoch 39/50\n",
      "Current LR: 1.00e-03\n"
     ]
    },
    {
     "name": "stderr",
     "output_type": "stream",
     "text": [
      "Training: 100%|██████████████████████████████████████████████████████████████████████████████████████████| 59/59 [00:19<00:00,  3.05it/s]\n"
     ]
    },
    {
     "name": "stdout",
     "output_type": "stream",
     "text": [
      "Train Loss: 0.1779, Train Acc: 94.07%\n",
      "Val Loss: 0.0364, Val Acc: 99.79%\n",
      "\n",
      "Epoch 40/50\n",
      "Current LR: 1.00e-03\n"
     ]
    },
    {
     "name": "stderr",
     "output_type": "stream",
     "text": [
      "Training: 100%|██████████████████████████████████████████████████████████████████████████████████████████| 59/59 [00:22<00:00,  2.65it/s]\n"
     ]
    },
    {
     "name": "stdout",
     "output_type": "stream",
     "text": [
      "Train Loss: 0.1640, Train Acc: 94.86%\n",
      "Val Loss: 0.0440, Val Acc: 98.94%\n",
      "\n",
      "Epoch 41/50\n",
      "Current LR: 1.00e-03\n"
     ]
    },
    {
     "name": "stderr",
     "output_type": "stream",
     "text": [
      "Training: 100%|██████████████████████████████████████████████████████████████████████████████████████████| 59/59 [00:20<00:00,  2.86it/s]\n"
     ]
    },
    {
     "name": "stdout",
     "output_type": "stream",
     "text": [
      "Train Loss: 0.1320, Train Acc: 96.08%\n",
      "Val Loss: 0.0185, Val Acc: 100.00%\n",
      "Model saved!\n",
      "\n",
      "Epoch 42/50\n",
      "Current LR: 1.00e-03\n"
     ]
    },
    {
     "name": "stderr",
     "output_type": "stream",
     "text": [
      "Training: 100%|██████████████████████████████████████████████████████████████████████████████████████████| 59/59 [00:18<00:00,  3.14it/s]\n"
     ]
    },
    {
     "name": "stdout",
     "output_type": "stream",
     "text": [
      "Train Loss: 0.1212, Train Acc: 96.61%\n",
      "Val Loss: 0.0210, Val Acc: 100.00%\n",
      "\n",
      "Epoch 43/50\n",
      "Current LR: 1.00e-03\n"
     ]
    },
    {
     "name": "stderr",
     "output_type": "stream",
     "text": [
      "Training: 100%|██████████████████████████████████████████████████████████████████████████████████████████| 59/59 [00:18<00:00,  3.13it/s]\n"
     ]
    },
    {
     "name": "stdout",
     "output_type": "stream",
     "text": [
      "Train Loss: 0.1631, Train Acc: 94.49%\n",
      "Val Loss: 0.0256, Val Acc: 99.79%\n",
      "\n",
      "Epoch 44/50\n",
      "Current LR: 1.00e-03\n"
     ]
    },
    {
     "name": "stderr",
     "output_type": "stream",
     "text": [
      "Training: 100%|██████████████████████████████████████████████████████████████████████████████████████████| 59/59 [00:19<00:00,  3.00it/s]\n"
     ]
    },
    {
     "name": "stdout",
     "output_type": "stream",
     "text": [
      "Train Loss: 0.1177, Train Acc: 96.19%\n",
      "Val Loss: 0.0185, Val Acc: 100.00%\n",
      "Model saved!\n",
      "\n",
      "Epoch 45/50\n",
      "Current LR: 1.00e-03\n"
     ]
    },
    {
     "name": "stderr",
     "output_type": "stream",
     "text": [
      "Training: 100%|██████████████████████████████████████████████████████████████████████████████████████████| 59/59 [00:20<00:00,  2.82it/s]\n"
     ]
    },
    {
     "name": "stdout",
     "output_type": "stream",
     "text": [
      "Train Loss: 0.1165, Train Acc: 96.24%\n",
      "Val Loss: 0.0163, Val Acc: 99.79%\n",
      "Model saved!\n",
      "\n",
      "Epoch 46/50\n",
      "Current LR: 1.00e-03\n"
     ]
    },
    {
     "name": "stderr",
     "output_type": "stream",
     "text": [
      "Training: 100%|██████████████████████████████████████████████████████████████████████████████████████████| 59/59 [00:18<00:00,  3.20it/s]\n"
     ]
    },
    {
     "name": "stdout",
     "output_type": "stream",
     "text": [
      "Train Loss: 0.1175, Train Acc: 96.45%\n",
      "Val Loss: 0.0143, Val Acc: 100.00%\n",
      "Model saved!\n",
      "\n",
      "Epoch 47/50\n",
      "Current LR: 1.00e-03\n"
     ]
    },
    {
     "name": "stderr",
     "output_type": "stream",
     "text": [
      "Training: 100%|██████████████████████████████████████████████████████████████████████████████████████████| 59/59 [00:21<00:00,  2.79it/s]\n"
     ]
    },
    {
     "name": "stdout",
     "output_type": "stream",
     "text": [
      "Train Loss: 0.1038, Train Acc: 96.77%\n",
      "Val Loss: 0.0095, Val Acc: 100.00%\n",
      "Model saved!\n",
      "\n",
      "Epoch 48/50\n",
      "Current LR: 1.00e-03\n"
     ]
    },
    {
     "name": "stderr",
     "output_type": "stream",
     "text": [
      "Training: 100%|██████████████████████████████████████████████████████████████████████████████████████████| 59/59 [00:21<00:00,  2.76it/s]\n"
     ]
    },
    {
     "name": "stdout",
     "output_type": "stream",
     "text": [
      "Train Loss: 0.0807, Train Acc: 97.93%\n",
      "Val Loss: 0.0079, Val Acc: 100.00%\n",
      "Model saved!\n",
      "\n",
      "Epoch 49/50\n",
      "Current LR: 1.00e-03\n"
     ]
    },
    {
     "name": "stderr",
     "output_type": "stream",
     "text": [
      "Training: 100%|██████████████████████████████████████████████████████████████████████████████████████████| 59/59 [00:20<00:00,  2.81it/s]\n"
     ]
    },
    {
     "name": "stdout",
     "output_type": "stream",
     "text": [
      "Train Loss: 0.0832, Train Acc: 97.35%\n",
      "Val Loss: 0.0077, Val Acc: 100.00%\n",
      "Model saved!\n",
      "\n",
      "Epoch 50/50\n",
      "Current LR: 1.00e-03\n"
     ]
    },
    {
     "name": "stderr",
     "output_type": "stream",
     "text": [
      "Training: 100%|██████████████████████████████████████████████████████████████████████████████████████████| 59/59 [00:18<00:00,  3.23it/s]\n"
     ]
    },
    {
     "name": "stdout",
     "output_type": "stream",
     "text": [
      "Train Loss: 0.1094, Train Acc: 96.66%\n",
      "Val Loss: 0.0061, Val Acc: 100.00%\n",
      "Model saved!\n"
     ]
    }
   ],
   "source": [
    "for epoch in range(num_epochs):\n",
    "    print(f\"\\nEpoch {epoch+1}/{num_epochs}\")\n",
    "    print(f\"Current LR: {optimizer.param_groups[0]['lr']:.2e}\")\n",
    "    \n",
    "    train_loss, train_acc = train_epoch(model, train_loader, criterion, optimizer, device)\n",
    "    val_loss, val_acc = validate(model, val_loader, criterion, device)\n",
    "    \n",
    "    history['train_loss'].append(train_loss)\n",
    "    history['train_acc'].append(train_acc)\n",
    "    history['val_loss'].append(val_loss)\n",
    "    history['val_acc'].append(val_acc)\n",
    "    \n",
    "    print(f\"Train Loss: {train_loss:.4f}, Train Acc: {train_acc:.2f}%\")\n",
    "    print(f\"Val Loss: {val_loss:.4f}, Val Acc: {val_acc:.2f}%\")\n",
    "    \n",
    "    old_lr = optimizer.param_groups[0]['lr']\n",
    "    scheduler.step(val_loss)\n",
    "    new_lr = optimizer.param_groups[0]['lr']\n",
    "    \n",
    "    if new_lr != old_lr:\n",
    "        print(f\"Learning rate reduced: {old_lr:.2e} -> {new_lr:.2e}\")\n",
    "    \n",
    "    if val_loss < best_val_loss:\n",
    "        best_val_loss = val_loss\n",
    "        patience_counter = 0\n",
    "        torch.save(model.state_dict(), 'rituals_pytorch.pth')\n",
    "        print(\"Model saved!\")\n",
    "    else:\n",
    "        patience_counter += 1\n",
    "        if patience_counter >= patience:\n",
    "            print(\"Early stopping triggered!\")\n",
    "            break"
   ]
  },
  {
   "cell_type": "markdown",
   "id": "78e10f75-ae95-4af6-b716-b9df8506cb80",
   "metadata": {},
   "source": [
    "## 2.2 - Save to ONNX"
   ]
  },
  {
   "cell_type": "code",
   "execution_count": 9,
   "id": "93d9e9a4-af8b-4d93-b146-46722134f20c",
   "metadata": {},
   "outputs": [
    {
     "name": "stderr",
     "output_type": "stream",
     "text": [
      "/var/folders/fr/5hnfrd91745f6r7xlspjycxw0000gn/T/ipykernel_36466/2835390642.py:8: DeprecationWarning: You are using the legacy TorchScript-based ONNX export. Starting in PyTorch 2.9, the new torch.export-based ONNX exporter will be the default. To switch now, set dynamo=True in torch.onnx.export. This new exporter supports features like exporting LLMs with DynamicCache. We encourage you to try it and share feedback to help improve the experience. Learn more about the new export logic: https://pytorch.org/docs/stable/onnx_dynamo.html. For exporting control flow: https://pytorch.org/tutorials/beginner/onnx/export_control_flow_model_to_onnx_tutorial.html.\n",
      "  torch.onnx.export(\n"
     ]
    },
    {
     "name": "stdout",
     "output_type": "stream",
     "text": [
      "Modèle exporté en ONNX : rituals_model.onnx\n"
     ]
    }
   ],
   "source": [
    "model.load_state_dict(torch.load('rituals_pytorch.pth'))\n",
    "model.eval()\n",
    "\n",
    "dummy_input = torch.randn(1, 1, input_shape, input_shape).to(device)\n",
    "\n",
    "torch.onnx.export(\n",
    "    model,                             \n",
    "    dummy_input,                       \n",
    "    'rituals_model.onnx',            \n",
    "    export_params=True,             \n",
    "    opset_version=11,                  \n",
    "    do_constant_folding=True,        \n",
    "    input_names=['input'],           \n",
    "    output_names=['output'],           \n",
    "    dynamic_axes={\n",
    "        'input': {0: 'batch_size'},    \n",
    "        'output': {0: 'batch_size'}\n",
    "    }\n",
    ")\n",
    "\n",
    "print(\"Modèle exporté en ONNX : rituals_model.onnx\")"
   ]
  },
  {
   "cell_type": "markdown",
   "id": "e5c5bf12-5072-4ca2-8081-6563fc206f28",
   "metadata": {},
   "source": [
    "## 2.3 - Test with your new datas"
   ]
  },
  {
   "cell_type": "code",
   "execution_count": 11,
   "id": "83a7c4aa-5b4f-47b1-b6e7-02ba5ccfc57c",
   "metadata": {},
   "outputs": [
    {
     "data": {
      "image/png": "[encoded data removed]",
      "text/plain": [
       "<Figure size 2000x2000 with 16 Axes>"
      ]
     },
     "metadata": {},
     "output_type": "display_data"
    },
    {
     "name": "stdout",
     "output_type": "stream",
     "text": [
      "\n",
      "Accuracy on sample: 0.00% (0/2)\n"
     ]
    }
   ],
   "source": [
    "import matplotlib.pyplot as plt\n",
    "from PIL import Image\n",
    "import torch\n",
    "import numpy as np\n",
    "import os\n",
    "\n",
    "model.load_state_dict(torch.load('rituals_pytorch.pth'))\n",
    "model.eval()\n",
    "model.to(device)\n",
    "\n",
    "def predict_image(image_path, model, device):\n",
    "    \"\"\"Prédit la classe d'une image\"\"\"\n",
    "    img = load_and_preprocess_image(image_path)\n",
    "    \n",
    "    img_tensor = torch.FloatTensor(img).unsqueeze(0).unsqueeze(0) / 255.0\n",
    "    img_tensor = img_tensor.to(device)\n",
    "    \n",
    "    with torch.no_grad():\n",
    "        output = model(img_tensor)\n",
    "        probabilities = torch.nn.functional.softmax(output, dim=1)\n",
    "        confidence, predicted = torch.max(probabilities, 1)\n",
    "    \n",
    "    return predicted.item(), confidence.item(), probabilities[0].cpu().numpy()\n",
    "\n",
    "def test_on_folder(test_folder_path, model, label_names, device, num_images=16):\n",
    "    \"\"\"Teste le modèle sur un dossier et affiche les résultats\"\"\"\n",
    "    \n",
    "    all_images = []\n",
    "    true_labels = []\n",
    "    \n",
    "    for label in os.listdir(test_folder_path):\n",
    "        label_path = os.path.join(test_folder_path, label)\n",
    "        if os.path.isdir(label_path):\n",
    "            for filename in os.listdir(label_path):\n",
    "                if filename.lower().endswith(('.png', '.jpg', '.jpeg')):\n",
    "                    all_images.append(os.path.join(label_path, filename))\n",
    "                    true_labels.append(label)\n",
    "    \n",
    "    indices = np.random.choice(len(all_images), min(num_images, len(all_images)), replace=False)\n",
    "    \n",
    "    rows = int(np.sqrt(num_images))\n",
    "    cols = int(np.ceil(num_images / rows))\n",
    "    \n",
    "    fig, axes = plt.subplots(rows, cols, figsize=(20, 20))\n",
    "    axes = axes.flatten()\n",
    "    \n",
    "    correct = 0\n",
    "    total = 0\n",
    "    \n",
    "    for idx, img_idx in enumerate(indices):\n",
    "        image_path = all_images[img_idx]\n",
    "        true_label = true_labels[img_idx]\n",
    "        \n",
    "        pred_idx, confidence, probabilities = predict_image(image_path, model, device)\n",
    "        pred_label = label_names[pred_idx]\n",
    "        \n",
    "        img_display = Image.open(image_path).convert('L')\n",
    "        \n",
    "        is_correct = (pred_label == true_label)\n",
    "        if is_correct:\n",
    "            correct += 1\n",
    "        total += 1\n",
    "        \n",
    "        axes[idx].imshow(img_display, cmap='gray')\n",
    "        axes[idx].axis('off')\n",
    "        \n",
    "        color = 'green' if is_correct else 'red'\n",
    "        title = f\"True: {true_label}\\nPred: {pred_label}\\nConf: {confidence:.2%}\"\n",
    "        axes[idx].set_title(title, fontsize=10, color=color, weight='bold')\n",
    "    \n",
    "    for idx in range(len(indices), len(axes)):\n",
    "        axes[idx].axis('off')\n",
    "    \n",
    "    plt.tight_layout()\n",
    "    plt.savefig('test_predictions.png', dpi=150, bbox_inches='tight')\n",
    "    plt.show()\n",
    "    \n",
    "    accuracy = correct / total * 100\n",
    "    print(f\"\\nAccuracy on sample: {accuracy:.2f}% ({correct}/{total})\")\n",
    "    \n",
    "    return accuracy\n",
    "\n",
    "test_folder_path = \"test\" \n",
    "accuracy = test_on_folder(test_folder_path, model, label_names, device, num_images=16)"
   ]
  },
  {
   "cell_type": "code",
   "execution_count": null,
   "id": "23cd7043-2f3b-42ec-815e-4993f1e2b01b",
   "metadata": {},
   "outputs": [],
   "source": []
  }
 ],
 "metadata": {
  "kernelspec": {
   "display_name": "Python 3 (ipykernel)",
   "language": "python",
   "name": "python3"
  },
  "language_info": {
   "codemirror_mode": {
    "name": "ipython",
    "version": 3
   },
   "file_extension": ".py",
   "mimetype": "text/x-python",
   "name": "python",
   "nbconvert_exporter": "python",
   "pygments_lexer": "ipython3",
   "version": "3.10.18"
  }
 },
 "nbformat": 4,
 "nbformat_minor": 5
}
