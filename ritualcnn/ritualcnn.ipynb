{
 "cells": [
  {
   "cell_type": "markdown",
   "id": "b4221d6b-2fc0-45e8-a7aa-e10de810ce60",
   "metadata": {},
   "source": [
    "## 0.1 - Import tensorflow and list GPU devices"
   ]
  },
  {
   "cell_type": "code",
   "execution_count": 1,
   "id": "625f4426-a1a2-4080-9ac8-64313a08b53f",
   "metadata": {},
   "outputs": [
    {
     "name": "stdout",
     "output_type": "stream",
     "text": [
      "[]\n",
      "Aucun GPU disponible\n"
     ]
    }
   ],
   "source": [
    "import tensorflow as tf\n",
    "\n",
    "gpus = tf.config.list_physical_devices('GPU')\n",
    "print(gpus)\n",
    "\n",
    "if gpus:\n",
    "    print(\"GPUs disponibles :\")\n",
    "    for gpu in gpus:\n",
    "        print(gpu)\n",
    "else:\n",
    "    print(\"Aucun GPU disponible\")"
   ]
  },
  {
   "cell_type": "markdown",
   "id": "fe651b17-7151-45b7-a282-0140fecd61dc",
   "metadata": {},
   "source": [
    "## 0.2 - Every imports"
   ]
  },
  {
   "cell_type": "code",
   "execution_count": 2,
   "id": "c5bac23e-846e-4c9d-a204-829aaa66fbe4",
   "metadata": {},
   "outputs": [],
   "source": [
    "import tensorflow as tf\n",
    "import numpy as np\n",
    "import os\n",
    "from tensorflow.keras.callbacks import EarlyStopping, ModelCheckpoint\n",
    "import tf2onnx\n",
    "import onnx\n",
    "from PIL import Image\n",
    "import random\n",
    "from sklearn.model_selection import train_test_split\n",
    "from tqdm import tqdm\n",
    "import warnings\n",
    "import numpy as np\n",
    "import matplotlib.pyplot as plt\n",
    "from tensorflow.keras import layers, models\n",
    "from tensorflow.keras.models import Sequential\n",
    "from tensorflow.keras.layers import Conv2D, MaxPooling2D, BatchNormalization, Dropout, Flatten, Dense, Reshape, LSTM, TimeDistributed, GlobalAveragePooling2D\n",
    "from tensorflow.keras.optimizers import Adam\n",
    "import tf2onnx\n",
    "import onnx"
   ]
  },
  {
   "cell_type": "markdown",
   "id": "39058f4f-47b9-445e-9db3-58065dc06419",
   "metadata": {},
   "source": [
    "## 0.3 - Setup variables"
   ]
  },
  {
   "cell_type": "code",
   "execution_count": 3,
   "id": "0f06189d-dfef-4e5f-88ed-e86f742bec25",
   "metadata": {},
   "outputs": [],
   "source": [
    "input_shape = 128\n",
    "directory_path = './data'\n",
    "augmented_path = f\"{directory_path}_augment\""
   ]
  },
  {
   "cell_type": "markdown",
   "id": "7d352f38-dee9-45f7-ad65-32db8ccb15bb",
   "metadata": {},
   "source": [
    "## 0.4 - Augment Data (generate more rituals.)"
   ]
  },
  {
   "cell_type": "code",
   "execution_count": 4,
   "id": "8ffe97ec-1ee2-417b-b3bc-2e96cecb0fc1",
   "metadata": {},
   "outputs": [
    {
     "name": "stderr",
     "output_type": "stream",
     "text": [
      "Augmenting chimtir: 100%|█████████████████████████| 4/4 [00:00<00:00, 46.26it/s]\n",
      "Augmenting not_a: 100%|████████████████████████| 14/14 [00:00<00:00, 139.96it/s]\n",
      "Augmenting choumir: 100%|████████████████████████| 2/2 [00:00<00:00, 244.20it/s]"
     ]
    },
    {
     "name": "stdout",
     "output_type": "stream",
     "text": [
      "Augmentation completed and saved in: ./data_augment\n"
     ]
    },
    {
     "name": "stderr",
     "output_type": "stream",
     "text": [
      "\n"
     ]
    }
   ],
   "source": [
    "import os\n",
    "import shutil\n",
    "import numpy as np\n",
    "from PIL import Image\n",
    "import tensorflow as tf\n",
    "from tqdm import tqdm\n",
    "\n",
    "input_shape = 128\n",
    "\n",
    "def load_and_preprocess_image(filename):\n",
    "    img = tf.io.read_file(filename)\n",
    "    img = tf.image.decode_image(img, channels=1)\n",
    "    img = tf.image.resize(img, [input_shape, input_shape])\n",
    "    img = tf.cast(img, tf.float32).numpy().squeeze()\n",
    "    return img\n",
    "\n",
    "def binarize_image(image):\n",
    "    return np.where(image > 127, 255, 0).astype(np.uint8)\n",
    "\n",
    "def apply_augmentation(image, x_shift=0, y_shift=0, angle=0):\n",
    "    img = Image.fromarray(image.astype(np.uint8))\n",
    "    img = img.transform(img.size, Image.AFFINE, (1, 0, x_shift, 0, 1, y_shift), fillcolor=0)\n",
    "    img = img.rotate(angle, fillcolor=0)\n",
    "    return np.array(img)\n",
    "\n",
    "def augment_and_save_images(src_dir, dst_dir):\n",
    "    if os.path.exists(dst_dir):\n",
    "        shutil.rmtree(dst_dir)\n",
    "    os.makedirs(dst_dir, exist_ok=True)\n",
    "\n",
    "    augmentations = [\n",
    "        {\"x_shift\": 5, \"y_shift\": 0, \"angle\": 0},\n",
    "        {\"x_shift\": -5, \"y_shift\": 0, \"angle\": 0},\n",
    "        {\"x_shift\": 0, \"y_shift\": 5, \"angle\": 0},\n",
    "        {\"x_shift\": 0, \"y_shift\": -5, \"angle\": 0},\n",
    "        {\"x_shift\": 3, \"y_shift\": 3, \"angle\": 0},\n",
    "        {\"x_shift\": -3, \"y_shift\": -3, \"angle\": 0},\n",
    "        {\"x_shift\": 0, \"y_shift\": 0, \"angle\": 10},\n",
    "        {\"x_shift\": 0, \"y_shift\": 0, \"angle\": -10},\n",
    "        {\"x_shift\": 0, \"y_shift\": 0, \"angle\": 15},\n",
    "        {\"x_shift\": 0, \"y_shift\": 0, \"angle\": -15},\n",
    "        {\"x_shift\": 4, \"y_shift\": 0, \"angle\": 10},\n",
    "        {\"x_shift\": -4, \"y_shift\": 0, \"angle\": -10},\n",
    "        {\"x_shift\": 0, \"y_shift\": 4, \"angle\": 15},\n",
    "        {\"x_shift\": 0, \"y_shift\": -4, \"angle\": -15},\n",
    "        {\"x_shift\": 2, \"y_shift\": 4, \"angle\": 25},\n",
    "        {\"x_shift\": 1, \"y_shift\": -4, \"angle\": -25},\n",
    "        {\"x_shift\": 2, \"y_shift\": 4, \"angle\": 5},\n",
    "        {\"x_shift\": 1, \"y_shift\": -4, \"angle\": -5}\n",
    "    ]\n",
    "\n",
    "    for label in os.listdir(src_dir):\n",
    "        label_path = os.path.join(src_dir, label)\n",
    "        if os.path.isdir(label_path):\n",
    "            dst_label_path = os.path.join(dst_dir, label)\n",
    "            os.makedirs(dst_label_path, exist_ok=True)\n",
    "            for filename in tqdm(os.listdir(label_path), desc=f\"Augmenting {label}\"):\n",
    "                if filename.lower().endswith(('.png', '.jpg', '.jpeg')):\n",
    "                    src_file = os.path.join(label_path, filename)\n",
    "                    img = load_and_preprocess_image(src_file)\n",
    "\n",
    "                    for i, aug in enumerate(augmentations):\n",
    "                        aug_img = apply_augmentation(img, **aug)\n",
    "                        aug_img = binarize_image(aug_img)\n",
    "                        aug_img_pil = Image.fromarray(aug_img)\n",
    "                        name, ext = os.path.splitext(filename)\n",
    "                        aug_img_pil.save(os.path.join(dst_label_path, f\"{name}_aug{i+1}{ext}\"))\n",
    "\n",
    "augment_and_save_images(directory_path, augmented_path)\n",
    "print(\"Augmentation completed and saved in:\", augmented_path)\n"
   ]
  },
  {
   "cell_type": "markdown",
   "id": "dbb22f48-f722-42c1-b6ff-44d3207c6669",
   "metadata": {},
   "source": [
    "## 1.0 - Collect images and classify them"
   ]
  },
  {
   "cell_type": "code",
   "execution_count": 5,
   "id": "ba08751c-c223-4783-9182-70abced08bd1",
   "metadata": {},
   "outputs": [
    {
     "name": "stdout",
     "output_type": "stream",
     "text": [
      "Actually load : chimtir with size : 54\n",
      "Actually load : not_a with size : 252\n",
      "Actually load : choumir with size : 18\n"
     ]
    },
    {
     "name": "stderr",
     "output_type": "stream",
     "text": [
      "Processing images: 100%|█████████████████| 324/324 [00:00<00:00, 3800.54image/s]"
     ]
    },
    {
     "name": "stdout",
     "output_type": "stream",
     "text": [
      "Converting images to NumPy array...\n",
      "Total images: 324\n",
      "Training images: 259, Test images: 65\n",
      "Number of classes: 3\n",
      "Class names: ['chimtir', 'choumir', 'not_a']\n"
     ]
    },
    {
     "name": "stderr",
     "output_type": "stream",
     "text": [
      "\n"
     ]
    }
   ],
   "source": [
    "def load_and_preprocess_image(filename):\n",
    "    img = tf.io.read_file(filename)\n",
    "    img = tf.image.decode_image(img, channels=1)  # 1 canal pour image en niveaux de gris\n",
    "    img = tf.image.resize(img, [input_shape, input_shape])\n",
    "    img = tf.cast(img, tf.float32)\n",
    "    # Seuillage binaire : tout pixel > 127 devient blanc (255), sinon noir (0)\n",
    "    img = tf.where(img > 127, 255.0, 0.0)\n",
    "    img = img.numpy()  # Conversion en NumPy\n",
    "    return img\n",
    "\n",
    "def load_images_from_directory(directory_path, max_images_per_label=None):\n",
    "    image_paths = []\n",
    "    labels = []\n",
    "    label_names = []\n",
    "\n",
    "    for label in os.listdir(directory_path):\n",
    "        label_path = os.path.join(directory_path, label)\n",
    "        print(f\"Actually load : {label} with size : {len(os.listdir(label_path))}\")\n",
    "        if os.path.isdir(label_path):\n",
    "            label_image_count = 0\n",
    "            \n",
    "            for filename in os.listdir(label_path):\n",
    "                if filename.lower().endswith(('.png', '.jpg', '.jpeg')):\n",
    "                    if max_images_per_label is not None and label_image_count >= max_images_per_label:\n",
    "                        break\n",
    "                    image_paths.append(os.path.join(label_path, filename))\n",
    "                    labels.append(label)\n",
    "                    label_image_count += 1\n",
    "                    if label not in label_names:\n",
    "                        label_names.append(label)\n",
    "    \n",
    "    label_names.sort()\n",
    "    return image_paths, labels, label_names\n",
    "\n",
    "def images_to_numpy(image_paths, labels, label_names):\n",
    "    images = []\n",
    "    for path in tqdm(image_paths, desc=\"Processing images\", unit=\"image\"):\n",
    "        image = load_and_preprocess_image(path)\n",
    "        images.append(image)\n",
    "    \n",
    "    labels = [label_names.index(label) for label in labels]\n",
    "    \n",
    "    print(\"Converting images to NumPy array...\")\n",
    "    images = np.array(images)\n",
    "    return images, np.array(labels)\n",
    "\n",
    "max_images_per_label = 1000000\n",
    "image_paths, labels, label_names = load_images_from_directory(augmented_path, max_images_per_label=max_images_per_label)\n",
    "images, labels = images_to_numpy(image_paths, labels, label_names)\n",
    "X_train, X_test, y_train, y_test = train_test_split(images, labels, test_size=0.2, random_state=42)\n",
    "num_classes = len(label_names)\n",
    "y_train = tf.keras.utils.to_categorical(y_train, num_classes)\n",
    "y_test = tf.keras.utils.to_categorical(y_test, num_classes)\n",
    "\n",
    "print(f\"Total images: {len(images)}\")\n",
    "print(f\"Training images: {X_train.shape[0]}, Test images: {X_test.shape[0]}\")\n",
    "print(f\"Number of classes: {num_classes}\")\n",
    "print(f\"Class names: {label_names}\")\n"
   ]
  },
  {
   "cell_type": "markdown",
   "id": "6b45cf09-4449-42f2-863e-531b483e343a",
   "metadata": {},
   "source": [
    "## 1.1 - Show a little matplotlib (isn't that beautiful)"
   ]
  },
  {
   "cell_type": "code",
   "execution_count": 6,
   "id": "228b34f1-87b9-42d4-af36-47ffb83367f2",
   "metadata": {},
   "outputs": [
    {
     "data": {
      "image/png": "[encoded data removed]",
      "text/plain": [
       "<Figure size 1000x200 with 1 Axes>"
      ]
     },
     "metadata": {},
     "output_type": "display_data"
    }
   ],
   "source": [
    "import matplotlib.pyplot as plt\n",
    "\n",
    "train_counts = np.sum(y_train, axis=0) \n",
    "test_counts = np.sum(y_test, axis=0)\n",
    "\n",
    "fig, ax = plt.subplots(figsize=(10, 2))\n",
    "index = np.arange(len(label_names))\n",
    "bar_height = 0.1\n",
    "train_bar = ax.barh(index, train_counts, bar_height, label='Train')\n",
    "test_bar = ax.barh(index + bar_height, test_counts, bar_height, label='Test')\n",
    "\n",
    "# Ajouter des étiquettes\n",
    "ax.set_ylabel('Classes')\n",
    "ax.set_xlabel('Nombre d\\'images')\n",
    "ax.set_title('Répartition des images par classe dans les ensembles d\\'entraînement et de test')\n",
    "ax.set_yticks(index + bar_height / 2)\n",
    "ax.set_yticklabels(label_names)\n",
    "ax.legend()\n",
    "\n",
    "# Afficher le graphique\n",
    "plt.tight_layout()\n",
    "plt.show()"
   ]
  },
  {
   "cell_type": "markdown",
   "id": "a53b3a5d-e189-4d0a-89b1-5ff2314d07c9",
   "metadata": {},
   "source": [
    "## 1.2 - Show some images (just to be sure)"
   ]
  },
  {
   "cell_type": "code",
   "execution_count": 7,
   "id": "53ff5025-3335-43c7-a511-1ab831fecb4c",
   "metadata": {},
   "outputs": [
    {
     "data": {
      "image/png": "[encoded data removed]",
      "text/plain": [
       "<Figure size 800x800 with 4 Axes>"
      ]
     },
     "metadata": {},
     "output_type": "display_data"
    }
   ],
   "source": [
    "def preview_images(images, labels, label_names, n=9):\n",
    "    plt.figure(figsize=(8, 8))\n",
    "    indices = np.random.choice(len(images), n, replace=False)\n",
    "    for i, idx in enumerate(indices):\n",
    "        plt.subplot(4, 4, i + 1)\n",
    "        plt.imshow(images[idx].squeeze(), cmap='binary')  # Affichage noir/blanc\n",
    "        plt.title(label_names[labels[idx]])\n",
    "        plt.axis('off')\n",
    "    plt.tight_layout()\n",
    "    plt.show()\n",
    "\n",
    "preview_images(X_train, np.argmax(y_train, axis=1), label_names, n=4)"
   ]
  },
  {
   "cell_type": "markdown",
   "id": "e23247e1-9645-4503-b333-288577aa392b",
   "metadata": {},
   "source": [
    "## 2.0 - Define model & function"
   ]
  },
  {
   "cell_type": "code",
   "execution_count": 8,
   "id": "3cb1db48-768d-4acb-a832-35ea39cfcc58",
   "metadata": {
    "scrolled": true
   },
   "outputs": [
    {
     "name": "stdout",
     "output_type": "stream",
     "text": [
      "Model: \"sequential\"\n",
      "_________________________________________________________________\n",
      " Layer (type)                Output Shape              Param #   \n",
      "=================================================================\n",
      " conv2d (Conv2D)             (None, 126, 126, 32)      320       \n",
      "                                                                 \n",
      " max_pooling2d (MaxPooling2  (None, 63, 63, 32)        0         \n",
      " D)                                                              \n",
      "                                                                 \n",
      " conv2d_1 (Conv2D)           (None, 61, 61, 64)        18496     \n",
      "                                                                 \n",
      " max_pooling2d_1 (MaxPoolin  (None, 30, 30, 64)        0         \n",
      " g2D)                                                            \n",
      "                                                                 \n",
      " conv2d_2 (Conv2D)           (None, 28, 28, 128)       73856     \n",
      "                                                                 \n",
      " max_pooling2d_2 (MaxPoolin  (None, 14, 14, 128)       0         \n",
      " g2D)                                                            \n",
      "                                                                 \n",
      " global_average_pooling2d (  (None, 128)               0         \n",
      " GlobalAveragePooling2D)                                         \n",
      "                                                                 \n",
      " dense (Dense)               (None, 128)               16512     \n",
      "                                                                 \n",
      " dropout (Dropout)           (None, 128)               0         \n",
      "                                                                 \n",
      " dense_1 (Dense)             (None, 3)                 387       \n",
      "                                                                 \n",
      "=================================================================\n",
      "Total params: 109571 (428.01 KB)\n",
      "Trainable params: 109571 (428.01 KB)\n",
      "Non-trainable params: 0 (0.00 Byte)\n",
      "_________________________________________________________________\n"
     ]
    }
   ],
   "source": [
    "model = Sequential()\n",
    "\n",
    "model.add(Conv2D(32, (3, 3), activation='relu', input_shape=(input_shape, input_shape, 1)))\n",
    "model.add(MaxPooling2D(pool_size=(2, 2)))\n",
    "\n",
    "model.add(Conv2D(64, (3, 3), activation='relu'))\n",
    "model.add(MaxPooling2D(pool_size=(2, 2)))\n",
    "\n",
    "model.add(Conv2D(128, (3, 3), activation='relu'))\n",
    "model.add(MaxPooling2D(pool_size=(2, 2)))\n",
    "\n",
    "model.add(GlobalAveragePooling2D())  # Remplace Flatten\n",
    "model.add(Dense(128, activation='relu'))\n",
    "model.add(Dropout(0.5))\n",
    "model.add(Dense(num_classes, activation='softmax'))\n",
    "\n",
    "model.compile(optimizer='adam',\n",
    "              loss='categorical_crossentropy',\n",
    "              metrics=['accuracy'])\n",
    "\n",
    "model.summary()\n"
   ]
  },
  {
   "cell_type": "markdown",
   "id": "23d28e96-aff6-4957-8a69-7d433bbbebd0",
   "metadata": {},
   "source": [
    "## 2.1 - Training !"
   ]
  },
  {
   "cell_type": "code",
   "execution_count": 10,
   "id": "f532a524-c9d5-4bd5-a579-16e8b6934049",
   "metadata": {},
   "outputs": [
    {
     "name": "stdout",
     "output_type": "stream",
     "text": [
      "Epoch 1/20\n",
      "7/7 [==============================] - 1s 115ms/step - loss: 0.3402 - accuracy: 0.8937 - val_loss: 0.3956 - val_accuracy: 0.8654\n",
      "Epoch 2/20\n",
      "7/7 [==============================] - 1s 111ms/step - loss: 0.3482 - accuracy: 0.8841 - val_loss: 0.3130 - val_accuracy: 0.8654\n",
      "Epoch 3/20\n",
      "7/7 [==============================] - 1s 110ms/step - loss: 0.3188 - accuracy: 0.8744 - val_loss: 0.4128 - val_accuracy: 0.8269\n",
      "Epoch 4/20\n",
      "7/7 [==============================] - 1s 112ms/step - loss: 0.2889 - accuracy: 0.8696 - val_loss: 0.2883 - val_accuracy: 0.8462\n",
      "Epoch 5/20\n",
      "7/7 [==============================] - 1s 113ms/step - loss: 0.2590 - accuracy: 0.9179 - val_loss: 0.2243 - val_accuracy: 0.9038\n",
      "Epoch 6/20\n",
      "7/7 [==============================] - 1s 111ms/step - loss: 0.1733 - accuracy: 0.9710 - val_loss: 0.2786 - val_accuracy: 0.8846\n",
      "Epoch 7/20\n",
      "7/7 [==============================] - 1s 123ms/step - loss: 0.2073 - accuracy: 0.9517 - val_loss: 0.1523 - val_accuracy: 0.9615\n",
      "Epoch 8/20\n",
      "7/7 [==============================] - 1s 112ms/step - loss: 0.1669 - accuracy: 0.9469 - val_loss: 0.2743 - val_accuracy: 0.9038\n",
      "Epoch 9/20\n",
      "7/7 [==============================] - 1s 111ms/step - loss: 0.1674 - accuracy: 0.9565 - val_loss: 0.1986 - val_accuracy: 0.9231\n",
      "Epoch 10/20\n",
      "7/7 [==============================] - 1s 111ms/step - loss: 0.1855 - accuracy: 0.9469 - val_loss: 0.2856 - val_accuracy: 0.8462\n",
      "Epoch 11/20\n",
      "7/7 [==============================] - 1s 114ms/step - loss: 0.1676 - accuracy: 0.9662 - val_loss: 0.1427 - val_accuracy: 1.0000\n",
      "Epoch 12/20\n",
      "7/7 [==============================] - 1s 112ms/step - loss: 0.1364 - accuracy: 0.9662 - val_loss: 0.1312 - val_accuracy: 1.0000\n",
      "Epoch 13/20\n",
      "7/7 [==============================] - 1s 111ms/step - loss: 0.1281 - accuracy: 0.9420 - val_loss: 0.1192 - val_accuracy: 0.9615\n",
      "Epoch 14/20\n",
      "7/7 [==============================] - 1s 113ms/step - loss: 0.1022 - accuracy: 0.9855 - val_loss: 0.0683 - val_accuracy: 1.0000\n",
      "Epoch 15/20\n",
      "7/7 [==============================] - 1s 112ms/step - loss: 0.0579 - accuracy: 0.9903 - val_loss: 0.0670 - val_accuracy: 1.0000\n",
      "Epoch 16/20\n",
      "7/7 [==============================] - 1s 110ms/step - loss: 0.0655 - accuracy: 0.9807 - val_loss: 0.0756 - val_accuracy: 0.9615\n",
      "Epoch 17/20\n",
      "7/7 [==============================] - 1s 114ms/step - loss: 0.0666 - accuracy: 0.9903 - val_loss: 0.0892 - val_accuracy: 0.9808\n",
      "Epoch 18/20\n",
      "7/7 [==============================] - 1s 113ms/step - loss: 0.0519 - accuracy: 0.9855 - val_loss: 0.0511 - val_accuracy: 1.0000\n",
      "Epoch 19/20\n",
      "7/7 [==============================] - 1s 112ms/step - loss: 0.0493 - accuracy: 0.9903 - val_loss: 0.0308 - val_accuracy: 1.0000\n",
      "Epoch 20/20\n",
      "7/7 [==============================] - 1s 111ms/step - loss: 0.0390 - accuracy: 0.9903 - val_loss: 0.0393 - val_accuracy: 1.0000\n",
      "3/3 [==============================] - 0s 18ms/step - loss: 0.0320 - accuracy: 0.9846\n",
      "Test Accuracy: 0.9846, Test Loss: 0.0320\n"
     ]
    }
   ],
   "source": [
    "early_stop = EarlyStopping(monitor='val_loss', patience=5, restore_best_weights=True)\n",
    "checkpoint = ModelCheckpoint('rituals.h5', monitor='val_loss', save_best_only=True)\n",
    "\n",
    "history = model.fit(\n",
    "    X_train, y_train,\n",
    "    validation_split=0.2,\n",
    "    epochs=20,\n",
    "    batch_size=32,\n",
    "    callbacks=[early_stop, checkpoint]\n",
    ")\n",
    "\n",
    "test_loss, test_acc = model.evaluate(X_test, y_test)\n",
    "print(f\"Test Accuracy: {test_acc:.4f}, Test Loss: {test_loss:.4f}\")\n"
   ]
  },
  {
   "cell_type": "markdown",
   "id": "7eda367f-8a2a-4106-bbe4-6491472571b3",
   "metadata": {},
   "source": [
    "## 2.2 - Saving and converting"
   ]
  },
  {
   "cell_type": "code",
   "execution_count": 11,
   "id": "7c078891-955c-4157-b618-9a5699272dde",
   "metadata": {},
   "outputs": [
    {
     "name": "stdout",
     "output_type": "stream",
     "text": [
      "3/3 [==============================] - 0s 19ms/step - loss: 0.0320 - accuracy: 0.9846\n",
      "Test Accuracy: 0.9846, Test Loss: 0.0320\n",
      "Model successfully saved to rituals.onnx\n",
      "ONNX model validation successful!\n"
     ]
    }
   ],
   "source": [
    "test_loss, test_acc = model.evaluate(X_test, y_test)\n",
    "print(f\"Test Accuracy: {test_acc:.4f}, Test Loss: {test_loss:.4f}\")\n",
    "\n",
    "input_signature = [tf.TensorSpec(model.input.shape, tf.float32, name='input')]\n",
    "onnx_model, _ = tf2onnx.convert.from_keras(model, input_signature, opset=13)\n",
    "onnx.save(onnx_model, \"rituals.onnx\")\n",
    "\n",
    "print(\"Model successfully saved to rituals.onnx\")\n",
    "\n",
    "onnx_model = onnx.load(\"rituals.onnx\")\n",
    "onnx.checker.check_model(onnx_model)\n",
    "print(\"ONNX model validation successful!\")"
   ]
  },
  {
   "cell_type": "code",
   "execution_count": null,
   "id": "e3d6ef50-72a1-4fe5-ad40-398361414b4f",
   "metadata": {},
   "outputs": [],
   "source": []
  }
 ],
 "metadata": {
  "kernelspec": {
   "display_name": "Python 3 (ipykernel)",
   "language": "python",
   "name": "python3"
  },
  "language_info": {
   "codemirror_mode": {
    "name": "ipython",
    "version": 3
   },
   "file_extension": ".py",
   "mimetype": "text/x-python",
   "name": "python",
   "nbconvert_exporter": "python",
   "pygments_lexer": "ipython3",
   "version": "3.10.18"
  }
 },
 "nbformat": 4,
 "nbformat_minor": 5
}
